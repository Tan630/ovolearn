{
 "cells": [
  {
   "cell_type": "code",
   "execution_count": 2,
   "metadata": {},
   "outputs": [],
   "source": [
    "import os\n",
    "import sys\n",
    "nb_dir = os.path.split(os.getcwd())[0]\n",
    "if nb_dir not in sys.path:\n",
    "    sys.path.append(nb_dir)"
   ]
  },
  {
   "cell_type": "code",
   "execution_count": 10,
   "metadata": {},
   "outputs": [
    {
     "name": "stdout",
     "output_type": "stream",
     "text": [
      "budget used: 0 -> 0\n",
      "budget used: 0 -> 2\n",
      "budget used: 2 -> 3\n",
      "budget used: 3 -> 3\n",
      "budget used: 3 -> 6\n",
      "budget used: 6 -> 7\n",
      "budget used: 0 -> 1\n",
      "budget used: 1 -> 2\n",
      "budget used: 2 -> 3\n",
      "budget used: 3 -> 3\n",
      "budget used: 3 -> 3\n",
      "budget used: 3 -> 5\n",
      "budget used: 5 -> 5\n",
      "budget used: 5 -> 5\n",
      "budget used: 5 -> 7\n",
      "budget used: 7 -> 10\n",
      "budget used: 10 -> 13\n",
      "budget used: 0 -> 0\n",
      "budget used: 0 -> 0\n",
      "budget used: 0 -> 1\n",
      "budget used: 1 -> 2\n",
      "budget used: 2 -> 2\n",
      "budget used: 2 -> 2\n",
      "budget used: 2 -> 2\n",
      "budget used: 2 -> 5\n",
      "budget used: 5 -> 8\n",
      "budget used: 8 -> 11\n",
      "budget used: 11 -> 13\n",
      "budget used: 13 -> 16\n",
      "budget used: 0 -> 0\n",
      "budget used: 0 -> 2\n",
      "budget used: 2 -> 3\n",
      "budget used: 3 -> 6\n",
      "budget used: 6 -> 9\n",
      "budget used: 9 -> 10\n",
      "budget used: 10 -> 12\n",
      "budget used: 0 -> 1\n",
      "budget used: 1 -> 1\n",
      "budget used: 1 -> 1\n",
      "budget used: 1 -> 4\n",
      "budget used: 4 -> 5\n",
      "budget used: 5 -> 6\n",
      "budget used: 6 -> 8\n",
      "budget used: 8 -> 11\n",
      "budget used: 0 -> 0\n",
      "budget used: 0 -> 0\n",
      "budget used: 0 -> 2\n",
      "budget used: 2 -> 4\n",
      "budget used: 4 -> 7\n",
      "budget used: 7 -> 10\n",
      "budget used: 10 -> 12\n",
      "budget used: 12 -> 13\n",
      "budget used: 0 -> 0\n",
      "budget used: 0 -> 1\n",
      "budget used: 1 -> 2\n",
      "budget used: 2 -> 2\n",
      "budget used: 0 -> 0\n",
      "budget used: 0 -> 1\n",
      "budget used: 1 -> 3\n",
      "budget used: 3 -> 5\n",
      "budget used: 5 -> 6\n",
      "budget used: 6 -> 8\n",
      "budget used: 0 -> 1\n",
      "budget used: 1 -> 1\n",
      "budget used: 1 -> 4\n",
      "budget used: 4 -> 7\n",
      "budget used: 7 -> 8\n",
      "budget used: 8 -> 11\n",
      "parent pool size:10\n",
      "survivor pool size:11\n",
      "generation done, best:mul ( sym_1 () sym_2 ()) with score -57.14963757318687, re-evaluate: -52.640621334073174\n",
      "parent pool size:11\n",
      "survivor pool size:11\n",
      "generation done, best:mul ( sym_1 () sym_3 ()) with score -57.14963757318687, re-evaluate: -55.79589082264086\n",
      "parent pool size:11\n",
      "survivor pool size:11\n",
      "generation done, best:mul ( sin ( sym_3 ()) sym_3 ()) with score -45.03970988234512, re-evaluate: -50.28003657159327\n",
      "parent pool size:11\n",
      "survivor pool size:11\n",
      "generation done, best:mul ( sin ( sym_3 ()) sym_3 ()) with score -45.03970988234512, re-evaluate: -63.570338265309715\n",
      "parent pool size:11\n",
      "survivor pool size:11\n",
      "generation done, best:mul ( sin ( sym_3 ()) sym_3 ()) with score -45.03970988234512, re-evaluate: -59.110391284101865\n",
      "parent pool size:11\n",
      "survivor pool size:11\n",
      "generation done, best:mul ( sin ( sym_3 ()) sym_3 ()) with score -45.03970988234512, re-evaluate: -66.40031487014839\n",
      "parent pool size:11\n",
      "survivor pool size:11\n",
      "generation done, best:lim ( sym_2 () sym_1 () sin ( sub ( cos ( sym_1 ()) mul ( sym_2 () sym_2 ())))) with score -41.98731620804249, re-evaluate: -47.15408401251777\n",
      "parent pool size:11\n",
      "survivor pool size:11\n",
      "generation done, best:lim ( sym_2 () sym_1 () sin ( sub ( cos ( sym_1 ()) mul ( sym_2 () sym_2 ())))) with score -41.98731620804249, re-evaluate: -48.154176996568914\n",
      "parent pool size:11\n",
      "survivor pool size:11\n",
      "generation done, best:lim ( sym_2 () sym_1 () sin ( sub ( cos ( sym_1 ()) mul ( sym_2 () sym_2 ())))) with score -41.98731620804249, re-evaluate: -57.16242388967687\n",
      "parent pool size:11\n",
      "survivor pool size:11\n",
      "generation done, best:lim ( sym_2 () sym_1 () sin ( sub ( cos ( sym_1 ()) mul ( sym_2 () sym_2 ())))) with score -41.98731620804249, re-evaluate: -48.56814387889402\n",
      "parent pool size:11\n",
      "survivor pool size:11\n",
      "generation done, best:mul ( sym_3 () sub ( sub ( cos ( sym_1 ()) mul ( sym_2 () sym_2 ())) mul ( sym_2 () sym_2 ()))) with score -35.43097456940539, re-evaluate: -57.15693158179005\n",
      "parent pool size:11\n",
      "survivor pool size:11\n",
      "generation done, best:mul ( sym_3 () sub ( sub ( cos ( sym_1 ()) mul ( sym_2 () sym_2 ())) mul ( sym_2 () sym_2 ()))) with score -35.43097456940539, re-evaluate: -61.65591654004595\n",
      "parent pool size:11\n",
      "survivor pool size:11\n",
      "generation done, best:mul ( sym_3 () sub ( sub ( cos ( sym_1 ()) mul ( sym_2 () sym_2 ())) mul ( sym_2 () sym_2 ()))) with score -35.43097456940539, re-evaluate: -41.61112033399205\n",
      "parent pool size:11\n",
      "survivor pool size:11\n",
      "generation done, best:mul ( sym_3 () sub ( sub ( cos ( sym_1 ()) mul ( sym_2 () sym_2 ())) mul ( sym_2 () sym_2 ()))) with score -35.43097456940539, re-evaluate: -38.40171949996266\n",
      "parent pool size:11\n",
      "survivor pool size:11\n",
      "generation done, best:mul ( sym_3 () sub ( sub ( cos ( sym_1 ()) mul ( sym_2 () sym_2 ())) mul ( sym_2 () sym_2 ()))) with score -35.43097456940539, re-evaluate: -49.33075956885606\n",
      "parent pool size:11\n",
      "survivor pool size:11\n",
      "generation done, best:mul ( sym_3 () sub ( sub ( cos ( sym_1 ()) mul ( sym_2 () sym_2 ())) mul ( sym_2 () sym_2 ()))) with score -35.43097456940539, re-evaluate: -57.44592629651676\n",
      "parent pool size:11\n",
      "survivor pool size:11\n",
      "generation done, best:mul ( sym_3 () sub ( sub ( cos ( sym_1 ()) mul ( sym_2 () sym_2 ())) mul ( sym_2 () sym_2 ()))) with score -35.43097456940539, re-evaluate: -37.937534258824776\n",
      "parent pool size:11\n",
      "survivor pool size:11\n",
      "generation done, best:mul ( sym_3 () sub ( sub ( cos ( sym_1 ()) mul ( sym_2 () sym_2 ())) mul ( sym_2 () sym_2 ()))) with score -35.43097456940539, re-evaluate: -57.79175428261855\n",
      "parent pool size:11\n",
      "survivor pool size:11\n",
      "generation done, best:mul ( sym_3 () sub ( sub ( cos ( sym_1 ()) mul ( sym_2 () sym_2 ())) mul ( sym_2 () sym_2 ()))) with score -35.43097456940539, re-evaluate: -55.292829378153286\n",
      "parent pool size:11\n",
      "survivor pool size:11\n",
      "generation done, best:mul ( sym_3 () sub ( sub ( cos ( sym_1 ()) mul ( sym_2 () sym_2 ())) mul ( sym_2 () sym_2 ()))) with score -35.43097456940539, re-evaluate: -56.37066310310702\n"
     ]
    }
   ],
   "source": []
  },
  {
   "cell_type": "code",
   "execution_count": null,
   "metadata": {},
   "outputs": [],
   "source": []
  },
  {
   "cell_type": "code",
   "execution_count": null,
   "metadata": {},
   "outputs": [],
   "source": []
  },
  {
   "cell_type": "code",
   "execution_count": 6,
   "metadata": {},
   "outputs": [
    {
     "data": {
      "text/plain": [
       "-4.492797153994267"
      ]
     },
     "execution_count": 6,
     "metadata": {},
     "output_type": "execute_result"
    }
   ],
   "source": [
    "\n",
    "evaluate_program_against_environment_once(sel.best, \"Pendulum-v1\", visible = True)"
   ]
  },
  {
   "cell_type": "code",
   "execution_count": 11,
   "metadata": {},
   "outputs": [
    {
     "name": "stdout",
     "output_type": "stream",
     "text": [
      "-3.5196148666763514\n"
     ]
    }
   ],
   "source": [
    "env = gym.make(\"CartPole-v1\", render_mode=\"human\")\n",
    "step_result = env.reset()\n",
    "score = step_result[1]\n",
    "for i in range(0,1000):\n",
    "    step_result = env.step([pendulum_wrapper(sel.best.evaluate(*step_result[0]))])\n",
    "    score = step_result[1]\n",
    "print(score)\n",
    "env.close()\n"
   ]
  },
  {
   "cell_type": "code",
   "execution_count": 7,
   "metadata": {},
   "outputs": [
    {
     "ename": "KeyboardInterrupt",
     "evalue": "",
     "output_type": "error",
     "traceback": [
      "\u001b[1;31m---------------------------------------------------------------------------\u001b[0m",
      "\u001b[1;31mKeyboardInterrupt\u001b[0m                         Traceback (most recent call last)",
      "Cell \u001b[1;32mIn[7], line 9\u001b[0m\n\u001b[0;32m      7\u001b[0m score \u001b[39m=\u001b[39m step_result[\u001b[39m1\u001b[39m]\n\u001b[0;32m      8\u001b[0m \u001b[39mfor\u001b[39;00m i \u001b[39min\u001b[39;00m \u001b[39mrange\u001b[39m(\u001b[39m0\u001b[39m,\u001b[39m1000\u001b[39m):\n\u001b[1;32m----> 9\u001b[0m     step_result \u001b[39m=\u001b[39m env\u001b[39m.\u001b[39;49mstep([\u001b[39m-\u001b[39;49m\u001b[39m1\u001b[39;49m])\n\u001b[0;32m     10\u001b[0m     score \u001b[39m=\u001b[39m step_result[\u001b[39m1\u001b[39m]\n\u001b[0;32m     11\u001b[0m \u001b[39mprint\u001b[39m(score)\n",
      "File \u001b[1;32mc:\\Applications\\Python3\\Lib\\site-packages\\gymnasium\\wrappers\\time_limit.py:57\u001b[0m, in \u001b[0;36mTimeLimit.step\u001b[1;34m(self, action)\u001b[0m\n\u001b[0;32m     46\u001b[0m \u001b[39mdef\u001b[39;00m \u001b[39mstep\u001b[39m(\u001b[39mself\u001b[39m, action):\n\u001b[0;32m     47\u001b[0m \u001b[39m    \u001b[39m\u001b[39m\"\"\"Steps through the environment and if the number of steps elapsed exceeds ``max_episode_steps`` then truncate.\u001b[39;00m\n\u001b[0;32m     48\u001b[0m \n\u001b[0;32m     49\u001b[0m \u001b[39m    Args:\u001b[39;00m\n\u001b[1;32m   (...)\u001b[0m\n\u001b[0;32m     55\u001b[0m \n\u001b[0;32m     56\u001b[0m \u001b[39m    \"\"\"\u001b[39;00m\n\u001b[1;32m---> 57\u001b[0m     observation, reward, terminated, truncated, info \u001b[39m=\u001b[39m \u001b[39mself\u001b[39;49m\u001b[39m.\u001b[39;49menv\u001b[39m.\u001b[39;49mstep(action)\n\u001b[0;32m     58\u001b[0m     \u001b[39mself\u001b[39m\u001b[39m.\u001b[39m_elapsed_steps \u001b[39m+\u001b[39m\u001b[39m=\u001b[39m \u001b[39m1\u001b[39m\n\u001b[0;32m     60\u001b[0m     \u001b[39mif\u001b[39;00m \u001b[39mself\u001b[39m\u001b[39m.\u001b[39m_elapsed_steps \u001b[39m>\u001b[39m\u001b[39m=\u001b[39m \u001b[39mself\u001b[39m\u001b[39m.\u001b[39m_max_episode_steps:\n",
      "File \u001b[1;32mc:\\Applications\\Python3\\Lib\\site-packages\\gymnasium\\wrappers\\order_enforcing.py:56\u001b[0m, in \u001b[0;36mOrderEnforcing.step\u001b[1;34m(self, action)\u001b[0m\n\u001b[0;32m     54\u001b[0m \u001b[39mif\u001b[39;00m \u001b[39mnot\u001b[39;00m \u001b[39mself\u001b[39m\u001b[39m.\u001b[39m_has_reset:\n\u001b[0;32m     55\u001b[0m     \u001b[39mraise\u001b[39;00m ResetNeeded(\u001b[39m\"\u001b[39m\u001b[39mCannot call env.step() before calling env.reset()\u001b[39m\u001b[39m\"\u001b[39m)\n\u001b[1;32m---> 56\u001b[0m \u001b[39mreturn\u001b[39;00m \u001b[39mself\u001b[39;49m\u001b[39m.\u001b[39;49menv\u001b[39m.\u001b[39;49mstep(action)\n",
      "File \u001b[1;32mc:\\Applications\\Python3\\Lib\\site-packages\\gymnasium\\wrappers\\env_checker.py:51\u001b[0m, in \u001b[0;36mPassiveEnvChecker.step\u001b[1;34m(self, action)\u001b[0m\n\u001b[0;32m     49\u001b[0m     \u001b[39mreturn\u001b[39;00m env_step_passive_checker(\u001b[39mself\u001b[39m\u001b[39m.\u001b[39menv, action)\n\u001b[0;32m     50\u001b[0m \u001b[39melse\u001b[39;00m:\n\u001b[1;32m---> 51\u001b[0m     \u001b[39mreturn\u001b[39;00m \u001b[39mself\u001b[39;49m\u001b[39m.\u001b[39;49menv\u001b[39m.\u001b[39;49mstep(action)\n",
      "File \u001b[1;32mc:\\Applications\\Python3\\Lib\\site-packages\\gymnasium\\envs\\classic_control\\pendulum.py:143\u001b[0m, in \u001b[0;36mPendulumEnv.step\u001b[1;34m(self, u)\u001b[0m\n\u001b[0;32m    140\u001b[0m \u001b[39mself\u001b[39m\u001b[39m.\u001b[39mstate \u001b[39m=\u001b[39m np\u001b[39m.\u001b[39marray([newth, newthdot])\n\u001b[0;32m    142\u001b[0m \u001b[39mif\u001b[39;00m \u001b[39mself\u001b[39m\u001b[39m.\u001b[39mrender_mode \u001b[39m==\u001b[39m \u001b[39m\"\u001b[39m\u001b[39mhuman\u001b[39m\u001b[39m\"\u001b[39m:\n\u001b[1;32m--> 143\u001b[0m     \u001b[39mself\u001b[39;49m\u001b[39m.\u001b[39;49mrender()\n\u001b[0;32m    144\u001b[0m \u001b[39mreturn\u001b[39;00m \u001b[39mself\u001b[39m\u001b[39m.\u001b[39m_get_obs(), \u001b[39m-\u001b[39mcosts, \u001b[39mFalse\u001b[39;00m, \u001b[39mFalse\u001b[39;00m, {}\n",
      "File \u001b[1;32mc:\\Applications\\Python3\\Lib\\site-packages\\gymnasium\\envs\\classic_control\\pendulum.py:259\u001b[0m, in \u001b[0;36mPendulumEnv.render\u001b[1;34m(self)\u001b[0m\n\u001b[0;32m    257\u001b[0m \u001b[39mif\u001b[39;00m \u001b[39mself\u001b[39m\u001b[39m.\u001b[39mrender_mode \u001b[39m==\u001b[39m \u001b[39m\"\u001b[39m\u001b[39mhuman\u001b[39m\u001b[39m\"\u001b[39m:\n\u001b[0;32m    258\u001b[0m     pygame\u001b[39m.\u001b[39mevent\u001b[39m.\u001b[39mpump()\n\u001b[1;32m--> 259\u001b[0m     \u001b[39mself\u001b[39;49m\u001b[39m.\u001b[39;49mclock\u001b[39m.\u001b[39;49mtick(\u001b[39mself\u001b[39;49m\u001b[39m.\u001b[39;49mmetadata[\u001b[39m\"\u001b[39;49m\u001b[39mrender_fps\u001b[39;49m\u001b[39m\"\u001b[39;49m])\n\u001b[0;32m    260\u001b[0m     pygame\u001b[39m.\u001b[39mdisplay\u001b[39m.\u001b[39mflip()\n\u001b[0;32m    262\u001b[0m \u001b[39melse\u001b[39;00m:  \u001b[39m# mode == \"rgb_array\":\u001b[39;00m\n",
      "\u001b[1;31mKeyboardInterrupt\u001b[0m: "
     ]
    }
   ],
   "source": [
    "visible = True\n",
    "if visible:\n",
    "    env = gym.make(\"Pendulum-v1\", render_mode=\"human\")\n",
    "else:\n",
    "    env = gym.make(\"Pendulum-v1\")\n",
    "step_result = env.reset()\n",
    "score = step_result[1]\n",
    "for i in range(0,1000):\n",
    "    step_result = env.step([-1])\n",
    "    score = step_result[1]\n",
    "print(score)"
   ]
  }
 ],
 "metadata": {
  "kernelspec": {
   "display_name": "Python 3",
   "language": "python",
   "name": "python3"
  },
  "language_info": {
   "codemirror_mode": {
    "name": "ipython",
    "version": 3
   },
   "file_extension": ".py",
   "mimetype": "text/x-python",
   "name": "python",
   "nbconvert_exporter": "python",
   "pygments_lexer": "ipython3",
   "version": "3.12.0"
  },
  "orig_nbformat": 4
 },
 "nbformat": 4,
 "nbformat_minor": 2
}
