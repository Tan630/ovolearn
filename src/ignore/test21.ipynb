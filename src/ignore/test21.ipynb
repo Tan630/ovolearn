{
 "cells": [
  {
   "cell_type": "code",
   "execution_count": null,
   "metadata": {},
   "outputs": [],
   "source": [
    "type(tuple)"
   ]
  },
  {
   "cell_type": "markdown",
   "metadata": {},
   "source": []
  },
  {
   "cell_type": "code",
   "execution_count": null,
   "metadata": {},
   "outputs": [],
   "source": [
    "\n",
    "\n",
    "# ['a'] is an instance of list\n",
    "# instantiate := create an instance of a type\n",
    "\n",
    "class EnclosedChar:\n",
    "    # constructor\n",
    "    # I want to instantiate you (you being the type)\n",
    "    #   what should I do?\n",
    "\n",
    "    def __init__(self, val: str, encl: str):\n",
    "        self.val = val\n",
    "        self.encl = encl\n",
    "\n",
    "    def __str__(self):\n",
    "        return self.encl + self.val + self.encl\n",
    "        \n",
    "\n",
    "echar = EnclosedChar(\"a\", \"_\")\n",
    "\n",
    "\n",
    "\n",
    "print (str(echar))\n",
    "\n"
   ]
  },
  {
   "cell_type": "code",
   "execution_count": null,
   "metadata": {},
   "outputs": [],
   "source": [
    "from __future__ import annotations\n",
    "from typing import Self\n",
    "\n",
    "class Pos():\n",
    "    def __init__(self, value):\n",
    "        self.val = value\n",
    "\n",
    "    def __str__(self):\n",
    "        return str(self.val)\n",
    "    \n",
    "    def copy(self):\n",
    "        return Pos(self.val.copy())\n",
    "    \n",
    "    def translate(self, delta: int)-> Pos:\n",
    "        new_pos = self.copy()\n",
    "        new_pos.val[0] = delta + new_pos.val[0]\n",
    "        new_pos.val[1] = delta + new_pos.val[1]\n",
    "        return new_pos\n",
    "    \n",
    "\n",
    "class PosThatCanMoveBy1(Pos):\n",
    "    \n",
    "\n",
    "a = Pos([0,0])\n",
    "print (a.translate_1())\n",
    "# print (a)\n",
    "\n",
    "# # side effect\n",
    "# # incremental testing / unit testing\n",
    "\n",
    "\n",
    "\n",
    "\n",
    "# a = Pos([1,2]) #(1,2)\n",
    "# b = Pos.translate_static(a,4)\n",
    "# print (a)\n",
    "# print (b)\n",
    "\n",
    "\n"
   ]
  },
  {
   "cell_type": "code",
   "execution_count": null,
   "metadata": {},
   "outputs": [],
   "source": [
    "class EnclosedChar():\n",
    "    def __init__(self, char, encl):\n",
    "        self.char = char\n",
    "        self.encl = encl\n",
    "\n",
    "    def __str__(self):\n",
    "        return self.encl + self.char + self.encl\n",
    "    \n",
    "class SuperEnclosedChar(EnclosedChar):\n",
    "    def __str__(self):\n",
    "        return self.encl + super().__str__() + self.encl\n",
    "\n",
    "\n",
    "    \n",
    "print (SuperEnclosedChar(\"a\", \"_\"))"
   ]
  },
  {
   "cell_type": "code",
   "execution_count": null,
   "metadata": {},
   "outputs": [],
   "source": [
    "def print_ab():\n",
    "    print_b()\n",
    "    print (\"a\")\n",
    "\n",
    "def print_b():\n",
    "    print (\"b\")\n",
    "\n",
    "print_ab()"
   ]
  },
  {
   "cell_type": "code",
   "execution_count": null,
   "metadata": {},
   "outputs": [],
   "source": [
    "\n",
    "\n",
    "class Complex():\n",
    "    def __init__(self, real, img):\n",
    "        self.real = real\n",
    "        self.img = img\n",
    "\n",
    "    def __str__(self):\n",
    "        return f\"{self.real}+{self.img}i\"\n",
    "    \n",
    "class Real(Complex):\n",
    "    def __init__(self, real):\n",
    "        super().__init__(real, 0)\n",
    "\n",
    "\n",
    "\n",
    "\n",
    "\n",
    "print (Real(1))\n",
    "print (Complex(1,2))"
   ]
  },
  {
   "cell_type": "code",
   "execution_count": null,
   "metadata": {},
   "outputs": [],
   "source": [
    "import time\n",
    "\n",
    "\n",
    "start_time = time.time()\n",
    "a = []\n",
    "while (True):\n",
    "    a.append(1)\n",
    "    if (time.time() > start_time+10):\n",
    "        break\n",
    "print(len(a))\n",
    "    "
   ]
  },
  {
   "cell_type": "code",
   "execution_count": null,
   "metadata": {},
   "outputs": [],
   "source": [
    "import time\n",
    "\n",
    "start_time = time.time()\n",
    "a = []\n",
    "while (True):\n",
    "    a.append(1)\n",
    "    print(\"Hello, World!\")\n",
    "    if (time.time() > start_time+10):\n",
    "        break\n",
    "print(len(a))\n",
    "    "
   ]
  },
  {
   "cell_type": "code",
   "execution_count": null,
   "metadata": {},
   "outputs": [],
   "source": [
    "import time\n",
    "\n",
    "start_time = time.time()\n",
    "a = []\n",
    "while (True):\n",
    "    a.append(1)\n",
    "    print(\"Hello, World!\", flush=True)\n",
    "    if (time.time() > start_time+10):\n",
    "        break\n",
    "print(len(a))\n",
    "    "
   ]
  },
  {
   "cell_type": "code",
   "execution_count": null,
   "metadata": {},
   "outputs": [],
   "source": [
    "\n",
    "class Real():\n",
    "    def __init__(self, real):\n",
    "        self.real = real\n",
    "\n",
    "    def __str__(self):\n",
    "        return f\"{self.real}\"\n",
    "\n",
    "\n",
    "class Complex(Real):\n",
    "    def __init__(self, real, img):\n",
    "        super().__init__(real)\n",
    "        self.img = img\n",
    "\n",
    "    def __str__(self):\n",
    "        return f\"{self.real}+{self.img}i\"\n",
    "\n",
    "print (Real(1))\n",
    "print (Complex(1,2))\n",
    "        "
   ]
  }
 ],
 "metadata": {
  "kernelspec": {
   "display_name": "Python 3",
   "language": "python",
   "name": "python3"
  },
  "language_info": {
   "codemirror_mode": {
    "name": "ipython",
    "version": 3
   },
   "file_extension": ".py",
   "mimetype": "text/x-python",
   "name": "python",
   "nbconvert_exporter": "python",
   "pygments_lexer": "ipython3",
   "version": "3.12.0"
  }
 },
 "nbformat": 4,
 "nbformat_minor": 2
}
