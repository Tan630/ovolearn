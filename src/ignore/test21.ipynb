{
 "cells": [
  {
   "cell_type": "code",
   "execution_count": 1,
   "metadata": {},
   "outputs": [],
   "source": [
    "import os\n",
    "import sys\n",
    "nb_dir = os.path.split(os.getcwd())[0]\n",
    "if nb_dir not in sys.path:\n",
    "    sys.path.append(nb_dir)\n"
   ]
  },
  {
   "cell_type": "code",
   "execution_count": 2,
   "metadata": {},
   "outputs": [],
   "source": [
    "from evolvables.expression import ProgramFactory, Program, ProgramCrossoverVariator\n",
    "from core.evaluator import Evaluator\n",
    "from core.population import Population\n",
    "from core.selector import SimpleSelector, Elitist\n",
    "from core.controller import Controller\n",
    "from typing import Callable\n",
    "from evolvables.functionalwalker import WalkerEvaluator, score_function\n",
    "import math"
   ]
  },
  {
   "cell_type": "code",
   "execution_count": 3,
   "metadata": {},
   "outputs": [],
   "source": [
    "\n",
    "def add(x, y):\n",
    "    return x+y\n",
    "\n",
    "def sub(x, y):\n",
    "    return x-y\n",
    "\n",
    "def mul(x, y):\n",
    "    return x-y\n",
    "\n",
    "def div(x, y):\n",
    "    return 0 if y==0 else x/y\n",
    "\n",
    "def log(x):\n",
    "    abs_x = abs(x)\n",
    "    if (abs_x == 0):\n",
    "        return 0\n",
    "    else:\n",
    "        return math.log(abs(x))\n",
    "\n",
    "def lim(x, y):\n",
    "    return max(min(x,2), 0)\n",
    "\n",
    "def avg(x, y):\n",
    "    return (x+y)/2\n",
    "\n",
    "def val05():\n",
    "    return 0.5\n",
    "def val1():\n",
    "    return 1\n",
    "def val2():\n",
    "    return 2\n",
    "def val3():\n",
    "    return 3\n",
    "\n",
    "# tree_depth, node_budget = 5, 10\n",
    "\n",
    "# a = progf.build(tree_depth, node_budget)\n",
    "\n",
    "#print (a)\n",
    "#progf = ProgramFactory((add, sub, mul, div, mul, div, lim, avg), 4)\n",
    "\n",
    "\n",
    "# e = progf.build(10, 4, 0.3)\n",
    "\n",
    "\n",
    "# import math\n",
    "def himmelblau(x:float, y:float)-> float:\n",
    "    if x < -5 or x > 5 or y < -5 or y > 5:\n",
    "        return 1000\n",
    "    else:\n",
    "        return (x**2 + y - 11)**2 + (x + y**2 - 7)**2\n",
    "# eval = \n",
    "\n",
    "# print (eval.evaluate(e))\n",
    "# print (e)\n",
    "\n",
    "\n"
   ]
  },
  {
   "cell_type": "code",
   "execution_count": 18,
   "metadata": {},
   "outputs": [
    {
     "name": "stdout",
     "output_type": "stream",
     "text": [
      "-37.48\n"
     ]
    }
   ],
   "source": [
    "\n",
    "episode_count = 50\n",
    "step_count = 1000\n",
    "\n",
    "test_function = lambda x : 2\n",
    "\n",
    "e = score_function(himmelblau,\n",
    "                      lambda x : 6,\n",
    "                      pop_size = 1,\n",
    "                      init_point = (-2.5, 2.5),\n",
    "                      episode_count = episode_count,\n",
    "                      step_count = step_count)\n",
    "\n",
    "# dict = {}\n",
    "# for i in [ 1, 1.1, 1.2, 1.3, 1.4, 1.5, 1.6, 1.7, 1.8, 1.9, 2, 2.1, 2.2, 2.3, 2.4, 2.5, 2.6, 2.7, 2.8, 2.9, 3, 3.1, 3.2, 3.3, 3.4, 3.5, 3.6, 3.7, 3.8, 3.9, 4]:\n",
    "#     dict[i] = score_function(himmelblau,\n",
    "#                       lambda x : i,\n",
    "#                       pop_size = 1,\n",
    "#                       init_point = (-2.5, 2.5),\n",
    "#                       episode_count = episode_count,\n",
    "#                       step_count = step_count)\n",
    "print (e)\n"
   ]
  },
  {
   "cell_type": "code",
   "execution_count": 10,
   "metadata": {},
   "outputs": [
    {
     "data": {
      "text/plain": [
       "{0.1: 0.0,\n",
       " 0.2: 0.0,\n",
       " 0.3: 0.0,\n",
       " 0.4: 0.0,\n",
       " 0.5: 0.0,\n",
       " 0.6: 0.0,\n",
       " 0.7: 0.0,\n",
       " 0.8: 0.0,\n",
       " 0.9: 0.0,\n",
       " 1: 0.0,\n",
       " 1.1: 0.0,\n",
       " 1.2: 0.0,\n",
       " 1.3: 0.0,\n",
       " 1.4: 0.0,\n",
       " 1.5: 0.0,\n",
       " 1.6: 0.0,\n",
       " 1.7: 0.0}"
      ]
     },
     "execution_count": 10,
     "metadata": {},
     "output_type": "execute_result"
    }
   ],
   "source": [
    "dict\n"
   ]
  },
  {
   "cell_type": "code",
   "execution_count": null,
   "metadata": {},
   "outputs": [],
   "source": [
    "def print_ab():\n",
    "    print_b()\n",
    "    print (\"a\")\n",
    "\n",
    "def print_b():\n",
    "    print (\"b\")\n",
    "\n",
    "print_ab()"
   ]
  },
  {
   "cell_type": "code",
   "execution_count": null,
   "metadata": {},
   "outputs": [],
   "source": [
    "\n",
    "\n",
    "class Complex():\n",
    "    def __init__(self, real, img):\n",
    "        self.real = real\n",
    "        self.img = img\n",
    "\n",
    "    def __str__(self):\n",
    "        return f\"{self.real}+{self.img}i\"\n",
    "    \n",
    "class Real(Complex):\n",
    "    def __init__(self, real):\n",
    "        super().__init__(real, 0)\n",
    "\n",
    "\n",
    "\n",
    "\n",
    "\n",
    "print (Real(1))\n",
    "print (Complex(1,2))"
   ]
  },
  {
   "cell_type": "code",
   "execution_count": null,
   "metadata": {},
   "outputs": [],
   "source": [
    "import time\n",
    "\n",
    "\n",
    "start_time = time.time()\n",
    "a = []\n",
    "while (True):\n",
    "    a.append(1)\n",
    "    if (time.time() > start_time+10):\n",
    "        break\n",
    "print(len(a))\n",
    "    "
   ]
  },
  {
   "cell_type": "code",
   "execution_count": null,
   "metadata": {},
   "outputs": [],
   "source": [
    "import time\n",
    "\n",
    "start_time = time.time()\n",
    "a = []\n",
    "while (True):\n",
    "    a.append(1)\n",
    "    print(\"Hello, World!\")\n",
    "    if (time.time() > start_time+10):\n",
    "        break\n",
    "print(len(a))\n",
    "    "
   ]
  },
  {
   "cell_type": "code",
   "execution_count": null,
   "metadata": {},
   "outputs": [],
   "source": [
    "import time\n",
    "\n",
    "start_time = time.time()\n",
    "a = []\n",
    "while (True):\n",
    "    a.append(1)\n",
    "    print(\"Hello, World!\", flush=True)\n",
    "    if (time.time() > start_time+10):\n",
    "        break\n",
    "print(len(a))\n",
    "    "
   ]
  },
  {
   "cell_type": "code",
   "execution_count": 19,
   "metadata": {},
   "outputs": [
    {
     "ename": "SyntaxError",
     "evalue": "unterminated string literal (detected at line 4) (2329236598.py, line 4)",
     "output_type": "error",
     "traceback": [
      "\u001b[1;36m  Cell \u001b[1;32mIn[19], line 4\u001b[1;36m\u001b[0m\n\u001b[1;33m    print(\"else clause executed:)\u001b[0m\n\u001b[1;37m          ^\u001b[0m\n\u001b[1;31mSyntaxError\u001b[0m\u001b[1;31m:\u001b[0m unterminated string literal (detected at line 4)\n"
     ]
    }
   ],
   "source": [
    "for x in []:\n",
    "    print(\"element in [] accessed\")\n",
    "else:\n",
    "    print(\"else clause executed:\")\n"
   ]
  }
 ],
 "metadata": {
  "kernelspec": {
   "display_name": "Python 3",
   "language": "python",
   "name": "python3"
  },
  "language_info": {
   "codemirror_mode": {
    "name": "ipython",
    "version": 3
   },
   "file_extension": ".py",
   "mimetype": "text/x-python",
   "name": "python",
   "nbconvert_exporter": "python",
   "pygments_lexer": "ipython3",
   "version": "3.12.0"
  }
 },
 "nbformat": 4,
 "nbformat_minor": 2
}
